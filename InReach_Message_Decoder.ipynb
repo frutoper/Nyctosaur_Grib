{
 "cells": [
  {
   "cell_type": "code",
   "execution_count": 28,
   "id": "68f71928",
   "metadata": {},
   "outputs": [],
   "source": [
    "# Imports\n",
    "\n",
    "import pandas as pd\n",
    "import numpy as np\n",
    "import matplotlib.pyplot as plt\n",
    "import geopandas\n",
    "import base64"
   ]
  },
  {
   "cell_type": "code",
   "execution_count": 40,
   "id": "9264912d",
   "metadata": {},
   "outputs": [],
   "source": [
    "\n",
    "def decode_grib_file(encoded_data, output_path):\n",
    "    \"\"\"\n",
    "    Decodes a base64 encoded GRIB file and saves it to a specified location.\n",
    "\n",
    "    Parameters:\n",
    "    - encoded_data (str): The base64 encoded string of the GRIB file content.\n",
    "    - output_path (str): The path where the decoded GRIB file should be saved.\n",
    "\n",
    "    Returns:\n",
    "    - str: Path to the saved file.\n",
    "    \"\"\"\n",
    "\n",
    "    # Split the received data into lines\n",
    "    lines = encoded_data.strip().split(\"\\n\")\n",
    "\n",
    "    # Extract only the message content lines, skipping the order numbers\n",
    "    encoded_data_without_nrs = ''.join([lines[i] for i in range(len(lines)) if i % 3 == 1])\n",
    "\n",
    "    \n",
    "    # Decode the base64 encoded data to obtain the binary representation of the GRIB file\n",
    "    decoded_data = base64.b64decode(encoded_data_without_nrs)\n",
    "    \n",
    "\n",
    "    # Save the decoded data to the specified path\n",
    "    with open(output_path, 'wb') as file:\n",
    "        file.write(decoded_data)\n",
    "\n",
    "    return output_path"
   ]
  },
  {
   "cell_type": "code",
   "execution_count": 41,
   "id": "11d05840",
   "metadata": {},
   "outputs": [],
   "source": [
    "# Copy all messages received from the inreach\n",
    "TEXT_RECIEVED = \"\"\"\n",
    "0\n",
    "R1JJQgAAjAEAABwCYpr/gCFpAAoXCBcAAAEAJAoAAAAVAAABAAAgAP8AAAgABwBdwIEZQIAAjKCA4pAH0AfQQAAAAAAAAEQIAADCX1dsCDIATFBiX1VXPzth\n",
    "0\n",
    "1\n",
    "UGFugnxfRVZob3aUmFxmbmhldZKXCwwNFiZIZ3kdISYlPENfXC4sLzUoHCJHADc3NzdHUklCAACMAQAAHAJimv+AIWkAChcIFwAAAQAwCgAAABUAAAEAACAA\n",
    "1\n",
    "2\n",
    "/wAACAAHAF3AgRlAgACMoIDikAfQB9BAAAAAAAAARAgAAMJ2sGoIaDQAJGdzd2VYQ0BUan2PllpTaGN1h5CRMWl2fYV4hJEwKiYxRWF2fDxAOjElMUFZTD4z\n",
    "2\n",
    "3\n",
    "LzAyMicANzc3N0dSSUIAAIwBAAAcAmKa/4AiaQAKFwgXAAABACQKAAAAFQAAAQAAIAD/AAAIAAcAXcCBGUCAAIyggOKQB9AH0EAAAAAAAABECAAAwnC2kghI\n",
    "3\n",
    "4\n",
    "dKCRgIqHdVeCjHpxhoh/YmN4a2BcdYlgYm5fRU1hcDAuNUQ7Nj1HNzs5NikfLUBMQjhALhkAKQA3Nzc3R1JJQgAAjAEAABwCYpr/gCJpAAoXCBcAAAEAMAoA\n",
    "4\n",
    "5\n",
    "AAAVAAABAAAgAP8AAAgABwBdwIEZQIAAjKCA4pAH0AfQQAAAAAAAAEQIAADCZS96CDYphIVtcXBzUVxqcHVhd0xbXldlX1dUaSleZ1VNWExTN0NQRjg1PzhO\n",
    "5\n",
    "6\n",
    "TlNJRBkPOE1bW0AzIA4AADc3Nzc=\n",
    "6\n",
    "\n",
    "\"\"\"\n",
    "\n",
    "# Define the path where the GRIB file should be saved\n",
    "OUTPUT_PATH = './output.grb'\n",
    "\n",
    "# Use the function to decode and save the GRIB file\n",
    "df = decode_grib_file(TEXT_RECIEVED, OUTPUT_PATH)"
   ]
  }
 ],
 "metadata": {
  "kernelspec": {
   "display_name": "Python 3 (ipykernel)",
   "language": "python",
   "name": "python3"
  },
  "language_info": {
   "codemirror_mode": {
    "name": "ipython",
    "version": 3
   },
   "file_extension": ".py",
   "mimetype": "text/x-python",
   "name": "python",
   "nbconvert_exporter": "python",
   "pygments_lexer": "ipython3",
   "version": "3.9.7"
  }
 },
 "nbformat": 4,
 "nbformat_minor": 5
}
