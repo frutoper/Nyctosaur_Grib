{
 "cells": [
  {
   "cell_type": "code",
   "execution_count": 5,
   "id": "68f71928",
   "metadata": {},
   "outputs": [],
   "source": [
    "# Imports\n",
    "import base64\n",
    "import io\n",
    "import zlib\n",
    "from datetime import datetime\n",
    "import sys\n",
    "sys.path.append(\".\")\n",
    "from src import configs"
   ]
  },
  {
   "cell_type": "code",
   "execution_count": 6,
   "id": "9264912d",
   "metadata": {},
   "outputs": [],
   "source": [
    "def decode_grib_file(encoded_data, output_path):\n",
    "    \"\"\"\n",
    "    Decodes a base64 encoded and zlib compressed GRIB file and saves it to a specified location.\n",
    "\n",
    "    Args:\n",
    "    - encoded_data (str): The base64 encoded string of the zlib compressed GRIB file content.\n",
    "    - output_path (str): The path where the decoded GRIB file should be saved.\n",
    "\n",
    "    Returns:\n",
    "    - str: Path to the saved file.\n",
    "    \"\"\"\n",
    "\n",
    "    # Split the received data into lines and extract only the message content lines, skipping the order numbers\n",
    "    lines = encoded_data.strip().split(\"\\n\")\n",
    "    encoded_data_without_nrs = ''.join([lines[i] for i in range(len(lines)) if i % 3 == 1])\n",
    "\n",
    "    # Decode the base64 encoded data\n",
    "    zipped_data = base64.b64decode(encoded_data_without_nrs)\n",
    "\n",
    "    # Decompress the zlib data to obtain the original GRIB file\n",
    "    grib_binary = zlib.decompress(zipped_data)\n",
    "\n",
    "    # Save the decoded data to the specified path\n",
    "    with open(output_path, 'wb') as file:\n",
    "        file.write(grib_binary)\n",
    "\n",
    "    return output_path"
   ]
  },
  {
   "cell_type": "code",
   "execution_count": 7,
   "id": "11d05840",
   "metadata": {},
   "outputs": [],
   "source": [
    "# Copy all messages received from the inreach\n",
    "TEXT_RECIEVED = \"\"\"\n",
    "0\n",
    "eJxzD/J0YmDoYWRgkGFKmvW/QTGTgUucQ5yBgZFBhYuBgUEUxG\n",
    "0\n",
    "1\n",
    "JQYPjPwMDBwM4Qe6BR0qGBoWdBw6MJ7BfYLzgwgIELBwPDofjwHA4jBp\n",
    "1\n",
    "2\n",
    "+ApPjQcHvrxIDEvKaaeNewjPyyKTNi0vIyUksnTefm4RVT80ivlFV\n",
    "2\n",
    "3\n",
    "UU7Vxjo/R09E31ZBRcmcwBwJ33G4xINEtZRuyODJMGFTSi8tTI5w\n",
    "3\n",
    "4\n",
    "dQrJq+6dFBWckl7ZPmGiYWVbbWtEy0UBLzdA1sazGxsHKUNXQMdLH\n",
    "4\n",
    "5\n",
    "zljfwMhIHatblMgPl4Jtkzg8ShZMbOhqLw1v6qkqbOuoT0quyE6\n",
    "5\n",
    "6\n",
    "IKe1MSMqLd/VNLDDQM3WxNrN1N7e2NNOU13XwcbJw0JNk0CTkFlLD\n",
    "6\n",
    "7\n",
    "JVW/isNMs6U1t7CgODAmq6A0sdwnOi48NT48JFMzLj3UN8In2Nw5\n",
    "7\n",
    "8\n",
    "wM3C1N7Czy/Y00WS38I3OtrBWIGPAewWADeQjU4=\n",
    "8\n",
    "\"\"\"\n",
    "\n",
    "# Define the path where the GRIB file should be saved\n",
    "current_time = datetime.now().strftime('%Y%m%d_%H%M%S')\n",
    "OUTPUT_PATH = configs.OUTPUT_DIR + f'decoded_grib_{current_time}.grb'\n",
    "\n",
    "# Use the function to decode and save the GRIB file\n",
    "df = decode_grib_file(TEXT_RECIEVED, OUTPUT_PATH)"
   ]
  },
  {
   "cell_type": "code",
   "execution_count": null,
   "id": "6cea5c3c",
   "metadata": {},
   "outputs": [],
   "source": []
  }
 ],
 "metadata": {
  "kernelspec": {
   "display_name": "base",
   "language": "python",
   "name": "python3"
  },
  "language_info": {
   "codemirror_mode": {
    "name": "ipython",
    "version": 3
   },
   "file_extension": ".py",
   "mimetype": "text/x-python",
   "name": "python",
   "nbconvert_exporter": "python",
   "pygments_lexer": "ipython3",
   "version": "3.12.7"
  }
 },
 "nbformat": 4,
 "nbformat_minor": 5
}
