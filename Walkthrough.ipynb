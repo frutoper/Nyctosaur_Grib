{
 "cells": [
  {
   "cell_type": "code",
   "execution_count": 19,
   "id": "2b1e9bcd",
   "metadata": {},
   "outputs": [],
   "source": [
    "import time\n",
    "import sys\n",
    "# Imports\n",
    "import base64\n",
    "import io\n",
    "import zlib\n",
    "from datetime import datetime\n",
    "\n",
    "sys.path.append(\".\")\n",
    "from grib_transmitter import email_functions as email_func\n",
    "from grib_transmitter import saildoc_functions as saildoc_func\n",
    "from grib_transmitter import inreach_functions as inreach_func\n",
    "from grib_transmitter import configs"
   ]
  },
  {
   "cell_type": "code",
   "execution_count": null,
   "id": "b367bcd7",
   "metadata": {},
   "outputs": [],
   "source": [
    "auth_service = email_func.gmail_authenticate()"
   ]
  },
  {
   "cell_type": "code",
   "execution_count": null,
   "id": "2601ff04",
   "metadata": {},
   "outputs": [],
   "source": [
    "# result = email_func.process_new_inreach_message(auth_service)\n",
    "\n",
    "previous_messages = email_func._load_previous_messages()\n",
    "unanswered_messages = email_func._get_new_message_ID(auth_service, previous_messages)\n",
    "\n",
    "if not unanswered_messages:\n",
    "    print('No new messages, 1945cf2215de8668 is a good message to use for testing')\n",
    "    pass"
   ]
  },
  {
   "cell_type": "code",
   "execution_count": 12,
   "id": "a38908f6",
   "metadata": {},
   "outputs": [],
   "source": [
    "unanswered_messages = '1945cf2215de8668'\n",
    "message_id = unanswered_messages"
   ]
  },
  {
   "cell_type": "code",
   "execution_count": 13,
   "id": "68abe95c",
   "metadata": {},
   "outputs": [],
   "source": [
    "grib_path = None\n",
    "garmin_reply_url = None"
   ]
  },
  {
   "cell_type": "code",
   "execution_count": null,
   "id": "813e7258",
   "metadata": {},
   "outputs": [],
   "source": [
    "# grib_path, garmin_reply_url = email_func._request_and_process_saildocs_grib(message_id, auth_service)\n",
    "# print(f\"Answered message {message_id}\", flush=True)\n",
    "\n",
    "# return grib_path, garmin_reply_url\n",
    "\n",
    "msg_text, garmin_reply_url = email_func._fetch_message_text_and_url(message_id, auth_service)\n",
    "\n",
    "# request saildocs grib data\n",
    "email_func._send_gmail_message(auth_service, configs.SAILDOCS_EMAIL_QUERY, \"\", \"send \" + msg_text)\n"
   ]
  },
  {
   "cell_type": "code",
   "execution_count": null,
   "id": "c38db64b",
   "metadata": {},
   "outputs": [],
   "source": []
  },
  {
   "cell_type": "code",
   "execution_count": null,
   "id": "81ce9aab",
   "metadata": {},
   "outputs": [],
   "source": [
    "time_sent = datetime.utcnow()\n",
    "from datetime import datetime, timedelta\n",
    "time_sent += timedelta(minutes=-15)\n",
    "last_response = saildoc_func.wait_for_saildocs_response(auth_service, time_sent)"
   ]
  },
  {
   "cell_type": "code",
   "execution_count": null,
   "id": "4c3bb683",
   "metadata": {},
   "outputs": [],
   "source": [
    "last_response\n",
    "# saildocs message id: 1945d10126a70f68\n",
    "# saildocs thread id: threadId=1945cf52222f2a1c"
   ]
  },
  {
   "cell_type": "code",
   "execution_count": null,
   "id": "ab34fb41",
   "metadata": {},
   "outputs": [],
   "source": [
    "grib_path = email_func._get_grib_attachment(auth_service, last_response['id'])"
   ]
  },
  {
   "cell_type": "code",
   "execution_count": null,
   "id": "68f71928",
   "metadata": {},
   "outputs": [],
   "source": [
    "grib_path\n",
    "\n",
    "# grib to check if picking up here\n",
    "# /files/attachments\\\\hrrr20250113002800052.grb' "
   ]
  },
  {
   "cell_type": "code",
   "execution_count": null,
   "id": "df5612b7",
   "metadata": {},
   "outputs": [],
   "source": [
    "encoded_grib = saildoc_func.encode_saildocs_grib_file(grib_path)"
   ]
  },
  {
   "cell_type": "code",
   "execution_count": null,
   "id": "ad649ff3",
   "metadata": {},
   "outputs": [],
   "source": [
    "gribmessage = encoded_grib"
   ]
  },
  {
   "cell_type": "code",
   "execution_count": 44,
   "id": "f24973f7",
   "metadata": {},
   "outputs": [],
   "source": [
    "# inreach_func.send_messages_to_inreach('8123913208@vtext.com', encoded_grib)"
   ]
  },
  {
   "cell_type": "code",
   "execution_count": 45,
   "id": "ebaf2c63",
   "metadata": {},
   "outputs": [],
   "source": [
    "import requests\n",
    "import random\n",
    "import time"
   ]
  },
  {
   "cell_type": "code",
   "execution_count": null,
   "id": "ac6e6a90",
   "metadata": {},
   "outputs": [],
   "source": [
    "message_parts = inreach_func._split_message(gribmessage)"
   ]
  },
  {
   "cell_type": "code",
   "execution_count": 52,
   "id": "8ef64920",
   "metadata": {},
   "outputs": [],
   "source": [
    "message_str = message_parts[0]"
   ]
  },
  {
   "cell_type": "code",
   "execution_count": null,
   "id": "39c932e5",
   "metadata": {},
   "outputs": [],
   "source": [
    "for message_str in message_parts:\n",
    "    email_func._send_gmail_message(auth_service, configs.SERVICE_EMAIL, \"\", \"send \" + message_str)\n",
    "    print(message_str)"
   ]
  },
  {
   "cell_type": "code",
   "execution_count": null,
   "id": "0a35f141",
   "metadata": {},
   "outputs": [],
   "source": []
  },
  {
   "cell_type": "code",
   "execution_count": null,
   "id": "59042725",
   "metadata": {},
   "outputs": [],
   "source": []
  },
  {
   "cell_type": "code",
   "execution_count": 59,
   "id": "9264912d",
   "metadata": {},
   "outputs": [],
   "source": [
    "def decode_grib_file(encoded_data, output_path):\n",
    "    \"\"\"\n",
    "    Decodes a base64 encoded and zlib compressed GRIB file and saves it to a specified location.\n",
    "\n",
    "    Args:\n",
    "    - encoded_data (str): The base64 encoded string of the zlib compressed GRIB file content.\n",
    "    - output_path (str): The path where the decoded GRIB file should be saved.\n",
    "\n",
    "    Returns:\n",
    "    - str: Path to the saved file.\n",
    "    \"\"\"\n",
    "\n",
    "    # Split the received data into lines and extract only the message content lines, skipping the order numbers\n",
    "    lines = encoded_data.strip().split(\"\\n\")\n",
    "    encoded_data_without_nrs = ''.join([lines[i] for i in range(len(lines)) if i % 3 == 1])\n",
    "\n",
    "    # Decode the base64 encoded data\n",
    "    zipped_data = base64.b64decode(encoded_data_without_nrs)\n",
    "\n",
    "    # Decompress the zlib data to obtain the original GRIB file\n",
    "    grib_binary = zlib.decompress(zipped_data)\n",
    "\n",
    "    # Save the decoded data to the specified path\n",
    "    with open(output_path, 'wb') as file:\n",
    "        file.write(grib_binary)\n",
    "\n",
    "    return output_path"
   ]
  },
  {
   "cell_type": "code",
   "execution_count": 60,
   "id": "11d05840",
   "metadata": {},
   "outputs": [],
   "source": [
    "# Copy all messages received from the inreach\n",
    "TEXT_RECIEVED = \"\"\"\n",
    "0\n",
    "eJxzD/J0YmCIYGRgkGFiD/7foJjJwCXJyCPOABThYmBgEGUAsRQY/jMwMAHh6peNwacaGHZXNLq48y/gX+DAAAYCHAwMh7zfaHDM82cwYDAHAnc0c5XIM5eH\n",
    "0\n",
    "1\n",
    "gcExS/cBu8amCgawuQBYCiJ1\n",
    "1\n",
    "\"\"\"\n",
    "\n",
    "# Define the path where the GRIB file should be saved\n",
    "current_time = datetime.now().strftime('%Y%m%d_%H%M%S')\n",
    "OUTPUT_PATH = configs.OUTPUT_DIR + f'decoded_grib_{current_time}.grb'\n",
    "\n",
    "# Use the function to decode and save the GRIB file\n",
    "df = decode_grib_file(TEXT_RECIEVED, OUTPUT_PATH)"
   ]
  },
  {
   "cell_type": "code",
   "execution_count": null,
   "id": "020b96d0",
   "metadata": {},
   "outputs": [],
   "source": [
    "df"
   ]
  },
  {
   "cell_type": "code",
   "execution_count": null,
   "id": "1f0a8eb0",
   "metadata": {},
   "outputs": [],
   "source": []
  }
 ],
 "metadata": {
  "kernelspec": {
   "display_name": "base",
   "language": "python",
   "name": "python3"
  },
  "language_info": {
   "codemirror_mode": {
    "name": "ipython",
    "version": 3
   },
   "file_extension": ".py",
   "mimetype": "text/x-python",
   "name": "python",
   "nbconvert_exporter": "python",
   "pygments_lexer": "ipython3",
   "version": "3.12.7"
  }
 },
 "nbformat": 4,
 "nbformat_minor": 5
}
